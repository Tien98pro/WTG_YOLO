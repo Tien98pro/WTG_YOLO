{
 "cells": [
  {
   "cell_type": "code",
   "execution_count": null,
   "metadata": {},
   "outputs": [],
   "source": [
    "from xml.dom import minidom\n",
    "import os\n",
    "import glob"
   ]
  },
  {
   "cell_type": "code",
   "execution_count": null,
   "metadata": {},
   "outputs": [],
   "source": [
    "lut={}\n",
    "lut[\"turbine\"] =0\n",
    "#lut[\"top\"]       =1\n",
    "#lut[\"bottom\"]    =2\n",
    "#lut[\"bag\"]       =3\n",
    "#lut[\"shoes\"]     =4\n",
    "\n",
    "print(lut)"
   ]
  },
  {
   "cell_type": "code",
   "execution_count": null,
   "metadata": {},
   "outputs": [],
   "source": [
    "def convert_coordinates(size, box):\n",
    "    dw = 1.0/size[0]\n",
    "    dh = 1.0/size[1]\n",
    "    x = (box[0]+box[1])/2.0\n",
    "    y = (box[2]+box[3])/2.0\n",
    "    w = box[1]-box[0]\n",
    "    h = box[3]-box[2]\n",
    "    x = x*dw\n",
    "    w = w*dw\n",
    "    y = y*dh\n",
    "    h = h*dh\n",
    "    return (x,y,w,h)\n",
    "\n",
    "\n",
    "def convert_xml2yolo(lut):\n",
    "\n",
    "    for fname in glob.glob(\"*.xml\"):\n",
    "        \n",
    "        xmldoc = minidom.parse(fname)\n",
    "        \n",
    "        fname_out = (fname[:-4]+'.txt')\n",
    "\n",
    "        with open(fname_out, \"w\") as f:\n",
    "\n",
    "            itemlist = xmldoc.getElementsByTagName('object')\n",
    "            size = xmldoc.getElementsByTagName('size')[0]\n",
    "            width = int((size.getElementsByTagName('width')[0]).firstChild.data)\n",
    "            height = int((size.getElementsByTagName('height')[0]).firstChild.data)\n",
    "\n",
    "            for item in itemlist:\n",
    "                # get class label\n",
    "                classid =  (item.getElementsByTagName('name')[0]).firstChild.data\n",
    "                if classid in lut:\n",
    "                    label_str = str(lut[classid])\n",
    "                else:\n",
    "                    label_str = \"-1\"\n",
    "                    print (\"warning: label '%s' not in look-up table\" % classid)\n",
    "\n",
    "                # get bbox coordinates\n",
    "                xmin = ((item.getElementsByTagName('bndbox')[0]).getElementsByTagName('xmin')[0]).firstChild.data\n",
    "                ymin = ((item.getElementsByTagName('bndbox')[0]).getElementsByTagName('ymin')[0]).firstChild.data\n",
    "                xmax = ((item.getElementsByTagName('bndbox')[0]).getElementsByTagName('xmax')[0]).firstChild.data\n",
    "                ymax = ((item.getElementsByTagName('bndbox')[0]).getElementsByTagName('ymax')[0]).firstChild.data\n",
    "                b = (float(xmin), float(xmax), float(ymin), float(ymax))\n",
    "                bb = convert_coordinates((width,height), b)\n",
    "                #print(bb)\n",
    "\n",
    "                f.write(label_str + \" \" + \" \".join([(\"%.6f\" % a) for a in bb]) + '\\n')\n",
    "\n",
    "        print (\"wrote %s\" % fname_out)\n",
    "\n",
    "\n",
    "\n",
    "def main():\n",
    "    convert_xml2yolo(lut)\n"
   ]
  },
  {
   "cell_type": "code",
   "execution_count": null,
   "metadata": {},
   "outputs": [],
   "source": [
    "if __name__ == '__main__':\n",
    "    main()"
   ]
  },
  {
   "cell_type": "code",
   "execution_count": null,
   "metadata": {},
   "outputs": [],
   "source": []
  }
 ],
 "metadata": {
  "kernelspec": {
   "display_name": "Python 3",
   "language": "python",
   "name": "python3"
  },
  "language_info": {
   "codemirror_mode": {
    "name": "ipython",
    "version": 3
   },
   "file_extension": ".py",
   "mimetype": "text/x-python",
   "name": "python",
   "nbconvert_exporter": "python",
   "pygments_lexer": "ipython3",
   "version": "3.8.3"
  }
 },
 "nbformat": 4,
 "nbformat_minor": 4
}
